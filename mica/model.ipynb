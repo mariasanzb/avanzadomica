{
 "cells": [
  {
   "cell_type": "markdown",
   "metadata": {},
   "source": [
    "# Modelo LightFM"
   ]
  },
  {
   "cell_type": "code",
   "execution_count": 1,
   "metadata": {},
   "outputs": [
    {
     "name": "stdout",
     "output_type": "stream",
     "text": [
      "Note: you may need to restart the kernel to use updated packages.\n"
     ]
    },
    {
     "name": "stderr",
     "output_type": "stream",
     "text": [
      "ERROR: Could not find a version that satisfies the requirement pickle (from versions: none)\n",
      "ERROR: No matching distribution found for pickle\n"
     ]
    }
   ],
   "source": [
    "pip install pickle"
   ]
  },
  {
   "cell_type": "code",
   "execution_count": 2,
   "metadata": {},
   "outputs": [],
   "source": [
    "import pandas as pd"
   ]
  },
  {
   "cell_type": "code",
   "execution_count": 3,
   "metadata": {},
   "outputs": [],
   "source": [
    "df_reviews= pd.read_parquet('reviews.parquet', engine='pyarrow')"
   ]
  },
  {
   "cell_type": "code",
   "execution_count": 4,
   "metadata": {},
   "outputs": [],
   "source": [
    "df_business= pd.read_parquet('business.parquet', engine='pyarrow')"
   ]
  },
  {
   "cell_type": "code",
   "execution_count": 5,
   "metadata": {},
   "outputs": [
    {
     "name": "stdout",
     "output_type": "stream",
     "text": [
      "<class 'pandas.core.frame.DataFrame'>\n",
      "RangeIndex: 23734 entries, 0 to 23733\n",
      "Data columns (total 9 columns):\n",
      " #   Column       Non-Null Count  Dtype         \n",
      "---  ------       --------------  -----         \n",
      " 0   review_id    23734 non-null  object        \n",
      " 1   user_id      23734 non-null  object        \n",
      " 2   business_id  23734 non-null  object        \n",
      " 3   stars        23734 non-null  int64         \n",
      " 4   useful       23734 non-null  int64         \n",
      " 5   funny        23734 non-null  int64         \n",
      " 6   cool         23734 non-null  int64         \n",
      " 7   text         23734 non-null  object        \n",
      " 8   date         23734 non-null  datetime64[ns]\n",
      "dtypes: datetime64[ns](1), int64(4), object(4)\n",
      "memory usage: 1.6+ MB\n"
     ]
    }
   ],
   "source": [
    "df_reviews.info()"
   ]
  },
  {
   "cell_type": "code",
   "execution_count": 6,
   "metadata": {},
   "outputs": [
    {
     "data": {
      "text/html": [
       "<div>\n",
       "<style scoped>\n",
       "    .dataframe tbody tr th:only-of-type {\n",
       "        vertical-align: middle;\n",
       "    }\n",
       "\n",
       "    .dataframe tbody tr th {\n",
       "        vertical-align: top;\n",
       "    }\n",
       "\n",
       "    .dataframe thead th {\n",
       "        text-align: right;\n",
       "    }\n",
       "</style>\n",
       "<table border=\"1\" class=\"dataframe\">\n",
       "  <thead>\n",
       "    <tr style=\"text-align: right;\">\n",
       "      <th></th>\n",
       "      <th>review_id</th>\n",
       "      <th>user_id</th>\n",
       "      <th>business_id</th>\n",
       "      <th>stars</th>\n",
       "      <th>useful</th>\n",
       "      <th>funny</th>\n",
       "      <th>cool</th>\n",
       "      <th>text</th>\n",
       "      <th>date</th>\n",
       "    </tr>\n",
       "  </thead>\n",
       "  <tbody>\n",
       "    <tr>\n",
       "      <th>0</th>\n",
       "      <td>Ltl-K9qNkYZfceRtu6Vr4A</td>\n",
       "      <td>nkN_do3fJ9xekchVC-v68A</td>\n",
       "      <td>8A5LSwsKK5vXDH1M3_Tf1w</td>\n",
       "      <td>5</td>\n",
       "      <td>6</td>\n",
       "      <td>1</td>\n",
       "      <td>6</td>\n",
       "      <td>Bacara is amazing and makes for an indulgent r...</td>\n",
       "      <td>2005-03-29 19:29:36</td>\n",
       "    </tr>\n",
       "    <tr>\n",
       "      <th>1</th>\n",
       "      <td>9qnI6MbB82Fy_67eYBAoMg</td>\n",
       "      <td>nkN_do3fJ9xekchVC-v68A</td>\n",
       "      <td>U3grYFIeu6RgAAQgdriHww</td>\n",
       "      <td>5</td>\n",
       "      <td>9</td>\n",
       "      <td>2</td>\n",
       "      <td>3</td>\n",
       "      <td>Not the easiest place to find, but just what I...</td>\n",
       "      <td>2005-03-29 19:42:12</td>\n",
       "    </tr>\n",
       "    <tr>\n",
       "      <th>2</th>\n",
       "      <td>d4-VjTAvvmT1GVV40hR1rQ</td>\n",
       "      <td>nkN_do3fJ9xekchVC-v68A</td>\n",
       "      <td>UjOq8dBVNv9weHrVDqm3kQ</td>\n",
       "      <td>1</td>\n",
       "      <td>4</td>\n",
       "      <td>0</td>\n",
       "      <td>0</td>\n",
       "      <td>Times like these I wish I could give negative ...</td>\n",
       "      <td>2005-03-29 19:53:58</td>\n",
       "    </tr>\n",
       "    <tr>\n",
       "      <th>3</th>\n",
       "      <td>v3YVV8C6S46Yq5mHSLvt8g</td>\n",
       "      <td>nkN_do3fJ9xekchVC-v68A</td>\n",
       "      <td>CoZ2mpsMBP8HUG1ymKoZTg</td>\n",
       "      <td>3</td>\n",
       "      <td>2</td>\n",
       "      <td>0</td>\n",
       "      <td>1</td>\n",
       "      <td>Started with ceviche which was fresh and excel...</td>\n",
       "      <td>2005-03-31 01:45:05</td>\n",
       "    </tr>\n",
       "    <tr>\n",
       "      <th>4</th>\n",
       "      <td>h-ACmkD5yYpD_AW5kRs9zA</td>\n",
       "      <td>Bf87HcPERF9yiSjb2tQBqw</td>\n",
       "      <td>ld_H5-FpZOWm_tkzwkPYQQ</td>\n",
       "      <td>5</td>\n",
       "      <td>0</td>\n",
       "      <td>1</td>\n",
       "      <td>6</td>\n",
       "      <td>Three pulls, a total of $1.25 wagered, payout ...</td>\n",
       "      <td>2005-05-15 09:58:17</td>\n",
       "    </tr>\n",
       "  </tbody>\n",
       "</table>\n",
       "</div>"
      ],
      "text/plain": [
       "                review_id                 user_id             business_id  \\\n",
       "0  Ltl-K9qNkYZfceRtu6Vr4A  nkN_do3fJ9xekchVC-v68A  8A5LSwsKK5vXDH1M3_Tf1w   \n",
       "1  9qnI6MbB82Fy_67eYBAoMg  nkN_do3fJ9xekchVC-v68A  U3grYFIeu6RgAAQgdriHww   \n",
       "2  d4-VjTAvvmT1GVV40hR1rQ  nkN_do3fJ9xekchVC-v68A  UjOq8dBVNv9weHrVDqm3kQ   \n",
       "3  v3YVV8C6S46Yq5mHSLvt8g  nkN_do3fJ9xekchVC-v68A  CoZ2mpsMBP8HUG1ymKoZTg   \n",
       "4  h-ACmkD5yYpD_AW5kRs9zA  Bf87HcPERF9yiSjb2tQBqw  ld_H5-FpZOWm_tkzwkPYQQ   \n",
       "\n",
       "   stars  useful  funny  cool  \\\n",
       "0      5       6      1     6   \n",
       "1      5       9      2     3   \n",
       "2      1       4      0     0   \n",
       "3      3       2      0     1   \n",
       "4      5       0      1     6   \n",
       "\n",
       "                                                text                date  \n",
       "0  Bacara is amazing and makes for an indulgent r... 2005-03-29 19:29:36  \n",
       "1  Not the easiest place to find, but just what I... 2005-03-29 19:42:12  \n",
       "2  Times like these I wish I could give negative ... 2005-03-29 19:53:58  \n",
       "3  Started with ceviche which was fresh and excel... 2005-03-31 01:45:05  \n",
       "4  Three pulls, a total of $1.25 wagered, payout ... 2005-05-15 09:58:17  "
      ]
     },
     "execution_count": 6,
     "metadata": {},
     "output_type": "execute_result"
    }
   ],
   "source": [
    "df_reviews.head()"
   ]
  },
  {
   "cell_type": "code",
   "execution_count": 7,
   "metadata": {},
   "outputs": [],
   "source": [
    "# Suponiendo que `reviews` es tu dataframe de Yelp\n",
    "data = df_reviews.groupby(\"user_id\").apply(\n",
    "    lambda x: dict(zip(x[\"business_id\"], x[\"stars\"]))\n",
    ").to_dict()\n"
   ]
  },
  {
   "cell_type": "code",
   "execution_count": 8,
   "metadata": {},
   "outputs": [
    {
     "data": {
      "text/plain": [
       "array(['nkN_do3fJ9xekchVC-v68A', 'Bf87HcPERF9yiSjb2tQBqw',\n",
       "       'q_QQ5kBBwlCcbL1s4NVK3g', ..., 'KLoEkHgC5wrORHdPpPq70Q',\n",
       "       'SRqtqW96nDIxtDM7qc1YGA', 'ooHF-vRzlkyN9UEVMKocAQ'], dtype=object)"
      ]
     },
     "execution_count": 8,
     "metadata": {},
     "output_type": "execute_result"
    }
   ],
   "source": [
    "df_reviews['user_id'].unique()"
   ]
  },
  {
   "cell_type": "code",
   "execution_count": 10,
   "metadata": {},
   "outputs": [],
   "source": [
    "import math\n",
    "\n",
    "# Funciones de similitud\n",
    "def euclidean_similarity(person1, person2, data):\n",
    "    common_ranked_items = [itm for itm in data[person1] if itm in data[person2]]\n",
    "    rankings = [(data[person1][itm], data[person2][itm]) for itm in common_ranked_items]\n",
    "    distance = [pow(rank[0] - rank[1], 2) for rank in rankings]\n",
    "    return 1 / (1 + sum(distance))\n",
    "\n",
    "def pearson_similarity(person1, person2, data):\n",
    "    common_ranked_items = [itm for itm in data[person1] if itm in data[person2]]\n",
    "    n = len(common_ranked_items)\n",
    "    s1 = sum([data[person1][item] for item in common_ranked_items])\n",
    "    s2 = sum([data[person2][item] for item in common_ranked_items])\n",
    "    ss1 = sum([pow(data[person1][item], 2) for item in common_ranked_items])\n",
    "    ss2 = sum([pow(data[person2][item], 2) for item in common_ranked_items])\n",
    "    ps = sum([data[person1][item] * data[person2][item] for item in common_ranked_items])\n",
    "    num = n * ps - (s1 * s2)\n",
    "    den = math.sqrt((n * ss1 - math.pow(s1, 2)) * (n * ss2 - math.pow(s2, 2)))\n",
    "    return (num / den) if den != 0 else 0"
   ]
  },
  {
   "cell_type": "code",
   "execution_count": 11,
   "metadata": {},
   "outputs": [],
   "source": [
    "def normalize_rating(rating, min_rating=1, max_rating=5):\n",
    "    \"\"\"\n",
    "    Normaliza el rating a un rango entre min_rating y max_rating.\n",
    "    \"\"\"\n",
    "    min_possible_rating = 0  # El rating mínimo que podría dar la similitud (en el caso de que uses un puntaje de 0)\n",
    "    max_possible_rating = 10  # El rating máximo que podrías obtener (ajusta según tus necesidades)\n",
    "\n",
    "    # Normalización Min-Max\n",
    "    normalized_rating = min_rating + (rating - min_possible_rating) * (max_rating - min_rating) / (max_possible_rating - min_possible_rating)\n",
    "    return max(min_rating, min(max_rating, normalized_rating))  # Asegurarse de que esté en el rango [min_rating, max_rating]"
   ]
  },
  {
   "cell_type": "code",
   "execution_count": 12,
   "metadata": {},
   "outputs": [],
   "source": [
    "def recommend(person, bound, data, df_business):\n",
    "    # Calculamos la similitud con todos los demás usuarios\n",
    "    scores = [(pearson_similarity(person, other, data), other) for other in data if other != person]\n",
    "\n",
    "    # Ordenamos los puntajes en orden descendente (de mayor a menor similitud)\n",
    "    scores.sort(reverse=True, key=lambda x: x[0])\n",
    "\n",
    "    # Crear un diccionario de negocios recomendados\n",
    "    recs = {}\n",
    "    for sim, other in scores:\n",
    "        ranked = data[other]  # Obtén los negocios recomendados\n",
    "        for itm in ranked:\n",
    "            if itm not in data[person]:  # Solo recomendar negocios no evaluados por la persona\n",
    "                # Calcular el peso de la recomendación\n",
    "                weight = sim * ranked[itm]\n",
    "                if itm in recs:\n",
    "                    recs[itm] += weight  # Acumular el puntaje\n",
    "                else:\n",
    "                    recs[itm] = weight\n",
    "\n",
    "    # Ordenar los negocios recomendados por el puntaje (de mayor a menor)\n",
    "    recs_sorted = sorted(recs.items(), key=lambda x: x[1], reverse=True)\n",
    "\n",
    "    # Filtrar los negocios que están en df_business\n",
    "    filtered_business_ids = [b_id for b_id, _ in recs_sorted if b_id in df_business['business_id'].values]\n",
    "\n",
    "    # Asegurarse de que el número de negocios recomendados no exceda el 'bound'\n",
    "    filtered_business_ids = filtered_business_ids[:bound]\n",
    "\n",
    "    # Crear una lista para almacenar los datos recomendados\n",
    "    recommended_business_data = []\n",
    "\n",
    "    # Iterar sobre los business_id recomendados\n",
    "    for business_id in filtered_business_ids:\n",
    "        # Obtener el nombre, dirección y ciudad desde df_business\n",
    "        business_info = df_business[df_business['business_id'] == business_id].iloc[0]\n",
    "        \n",
    "        # Obtener la recomendación (rating) desde recs\n",
    "        rating = recs.get(business_id, 0)\n",
    "        \n",
    "        # Normalizar el rating al rango de 1 a 5\n",
    "        normalized_rating = normalize_rating(rating)\n",
    "        \n",
    "        # Añadir la información a la lista\n",
    "        recommended_business_data.append({\n",
    "            'business_id': business_id,\n",
    "            'name': business_info['name'],\n",
    "            'address': business_info['address'],\n",
    "            'city': business_info['city'],\n",
    "            'rating': normalized_rating\n",
    "        })\n",
    "\n",
    "    # Convertir la lista en un DataFrame\n",
    "    recommended_business_info = pd.DataFrame(recommended_business_data)\n",
    "\n",
    "    return recommended_business_info\n"
   ]
  },
  {
   "cell_type": "code",
   "execution_count": 13,
   "metadata": {},
   "outputs": [
    {
     "name": "stdout",
     "output_type": "stream",
     "text": [
      "              business_id               name               address  \\\n",
      "0  6a4gLLFSgr-Q6CZXDLzBGQ             Cochon  930 Tchoupitoulas St   \n",
      "1  hRskO0RDRW3Cq3k7_Kggcg  Le Pavillon Hotel        833 Poydras St   \n",
      "2  _ab50qdWOk0DdB6XOrBitw  Acme Oyster House      724 Iberville St   \n",
      "3  yf8a1DOlqoqlKHuLSKEfxg    Dante's Kitchen          736 Dante St   \n",
      "4  MI7cUsPiQGYQRuQmn3MbtA       Boca - Tampa        901 W Platt St   \n",
      "\n",
      "          city  rating  \n",
      "0  New Orleans     4.6  \n",
      "1  New Orleans     3.0  \n",
      "2  New Orleans     3.0  \n",
      "3  New Orleans     3.0  \n",
      "4        Tampa     3.0  \n"
     ]
    }
   ],
   "source": [
    "# Ejemplo de uso\n",
    "person = 'Bf87HcPERF9yiSjb2tQBqw'\n",
    "bound = 5\n",
    "recs = recommend(person, bound, data, df_business)\n",
    "print(recs)\n"
   ]
  },
  {
   "cell_type": "code",
   "execution_count": 15,
   "metadata": {},
   "outputs": [],
   "source": [
    "import pickle"
   ]
  },
  {
   "cell_type": "code",
   "execution_count": 16,
   "metadata": {},
   "outputs": [],
   "source": [
    "with open('recommend_model.pkl', 'wb') as f:\n",
    "    pickle.dump({\n",
    "        'recommend': recommend,\n",
    "        'normalize_rating': normalize_rating,\n",
    "        'df_business': df_business,\n",
    "        'data': data\n",
    "    }, f)"
   ]
  },
  {
   "cell_type": "code",
   "execution_count": null,
   "metadata": {},
   "outputs": [],
   "source": [
    "# # Cargar el modelo desde el archivo pickle\n",
    "# with open('recommend_model.pkl', 'rb') as f:\n",
    "#     model = pickle.load(f)\n",
    "\n",
    "# # Acceder a las funciones y datos\n",
    "# recommend = model['recommend']\n",
    "# normalize_rating = model['normalize_rating']\n",
    "# df_business = model['df_business']\n",
    "# data = model['data']\n",
    "\n",
    "# # Usar el modelo cargado\n",
    "# # Ejemplo: Hacer recomendaciones\n",
    "# user = 'user1'\n",
    "# bound = 3\n",
    "# recommendations = recommend(user, bound, data, df_business)\n"
   ]
  },
  {
   "cell_type": "code",
   "execution_count": 17,
   "metadata": {},
   "outputs": [],
   "source": [
    "import math\n",
    "\n",
    "def calculate_mse(person, data, df_business):\n",
    "    \"\"\"\n",
    "    Calcula el Error Medio Cuadrático (MSE) para las predicciones de un usuario.\n",
    "    \n",
    "    :param person: ID del usuario para el que se evaluará el modelo.\n",
    "    :param data: Diccionario con las calificaciones de usuarios para negocios.\n",
    "    :param df_business: DataFrame con información de los negocios.\n",
    "    :return: Error Medio Cuadrático (MSE).\n",
    "    \"\"\"\n",
    "    # Obtenemos las predicciones para los negocios que el usuario ha calificado\n",
    "    predictions = {}\n",
    "    for other in data:\n",
    "        if other != person:\n",
    "            sim = pearson_similarity(person, other, data)\n",
    "            for business in data[other]:\n",
    "                if business not in predictions:\n",
    "                    predictions[business] = 0\n",
    "                predictions[business] += sim * data[other][business]\n",
    "    \n",
    "    # Normalizar predicciones (opcional, dependiendo de tus datos)\n",
    "    normalized_predictions = {\n",
    "        k: normalize_rating(v) for k, v in predictions.items()\n",
    "    }\n",
    "    \n",
    "    # Calcular el MSE solo para negocios que el usuario calificó\n",
    "    mse_sum = 0\n",
    "    n = 0  # Contador de negocios evaluados\n",
    "    for business, real_rating in data[person].items():\n",
    "        if business in normalized_predictions:\n",
    "            predicted_rating = normalized_predictions[business]\n",
    "            mse_sum += (real_rating - predicted_rating) ** 2\n",
    "            n += 1\n",
    "    \n",
    "    return mse_sum / n if n > 0 else None\n"
   ]
  },
  {
   "cell_type": "code",
   "execution_count": 18,
   "metadata": {},
   "outputs": [
    {
     "data": {
      "text/plain": [
       "9.5"
      ]
     },
     "execution_count": 18,
     "metadata": {},
     "output_type": "execute_result"
    }
   ],
   "source": [
    "# Ejemplo de uso\n",
    "person = 'Bf87HcPERF9yiSjb2tQBqw'\n",
    "calculate_mse(person, data, df_business)\n"
   ]
  }
 ],
 "metadata": {
  "kernelspec": {
   "display_name": "base",
   "language": "python",
   "name": "python3"
  },
  "language_info": {
   "codemirror_mode": {
    "name": "ipython",
    "version": 3
   },
   "file_extension": ".py",
   "mimetype": "text/x-python",
   "name": "python",
   "nbconvert_exporter": "python",
   "pygments_lexer": "ipython3",
   "version": "3.12.3"
  }
 },
 "nbformat": 4,
 "nbformat_minor": 2
}
